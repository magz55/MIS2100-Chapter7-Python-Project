{
 "cells": [
  {
   "cell_type": "code",
   "execution_count": 25,
   "id": "d9f5c852",
   "metadata": {},
   "outputs": [],
   "source": [
    "class MyMath:\n",
    "    def divide(self, numerator, denominator):\n",
    "        if(denominator == 0.0):\n",
    "            raise ZeroDivisionError(\"Cannot divide by 0\")\n",
    "        result = numerator/denominator\n",
    "        print(result)\n",
    "        return result"
   ]
  },
  {
   "cell_type": "code",
   "execution_count": 26,
   "id": "057628e7",
   "metadata": {},
   "outputs": [],
   "source": [
    "import unittest "
   ]
  },
  {
   "cell_type": "code",
   "execution_count": 27,
   "id": "da0b43db",
   "metadata": {},
   "outputs": [
    {
     "name": "stderr",
     "output_type": "stream",
     "text": [
      "...."
     ]
    },
    {
     "name": "stdout",
     "output_type": "stream",
     "text": [
      "0.25\n",
      "0.14285714285714285\n",
      "0.0\n"
     ]
    },
    {
     "name": "stderr",
     "output_type": "stream",
     "text": [
      "\n",
      "----------------------------------------------------------------------\n",
      "Ran 4 tests in 0.010s\n",
      "\n",
      "OK\n"
     ]
    }
   ],
   "source": [
    "class SimpleMathTest(unittest.TestCase):\n",
    "    def testThatZeroNumeratorReturnsZero(self):\n",
    "        math = MyMath()\n",
    "        self.assertEqual(0, math.divide(0,7))\n",
    "    def testThatSmallerNumeratorReturnsDecimalValue(self):\n",
    "        math = MyMath()\n",
    "        self.assertEqual(0.25, math.divide(1, 4))\n",
    "    def testThatSmallerNumeratorReturnsRepeatingDecimalValue(self):\n",
    "        math = MyMath()\n",
    "        self.assertAlmostEqual(0.143, math.divide(1, 7), 3)  \n",
    "    def testThatZeroDenominatorThrowsException(self):\n",
    "        math = MyMath()\n",
    "        with self.assertRaises(ZeroDivisionError): math.divide(6,0)\n",
    "if( __name__ == '__main__'):\n",
    "    unittest.main(argv=['first-arg-is-ignored'], exit=False)\n",
    "\n",
    "        \n",
    "         "
   ]
  },
  {
   "cell_type": "code",
   "execution_count": null,
   "id": "d4f341fc",
   "metadata": {},
   "outputs": [],
   "source": []
  }
 ],
 "metadata": {
  "kernelspec": {
   "display_name": "Python 3",
   "language": "python",
   "name": "python3"
  },
  "language_info": {
   "codemirror_mode": {
    "name": "ipython",
    "version": 3
   },
   "file_extension": ".py",
   "mimetype": "text/x-python",
   "name": "python",
   "nbconvert_exporter": "python",
   "pygments_lexer": "ipython3",
   "version": "3.8.8"
  }
 },
 "nbformat": 4,
 "nbformat_minor": 5
}
